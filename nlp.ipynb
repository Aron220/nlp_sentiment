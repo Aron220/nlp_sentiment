{
 "cells": [
  {
   "cell_type": "code",
   "execution_count": 67,
   "metadata": {},
   "outputs": [
    {
     "name": "stderr",
     "output_type": "stream",
     "text": [
      "[nltk_data] Downloading package punkt to /home/aron/nltk_data...\n",
      "[nltk_data]   Package punkt is already up-to-date!\n",
      "[nltk_data] Downloading package stopwords to /home/aron/nltk_data...\n",
      "[nltk_data]   Package stopwords is already up-to-date!\n"
     ]
    },
    {
     "data": {
      "text/plain": [
       "True"
      ]
     },
     "execution_count": 67,
     "metadata": {},
     "output_type": "execute_result"
    }
   ],
   "source": [
    "import pandas as pd\n",
    "import re\n",
    "from nltk.tokenize import word_tokenize\n",
    "from nltk.corpus import stopwords\n",
    "from nltk.stem import PorterStemmer\n",
    "import nltk\n",
    "nltk.download('punkt')\n",
    "nltk.download('stopwords')"
   ]
  },
  {
   "cell_type": "code",
   "execution_count": 73,
   "metadata": {},
   "outputs": [
    {
     "ename": "AttributeError",
     "evalue": "'Series' object has no attribute 'strip'",
     "output_type": "error",
     "traceback": [
      "\u001b[0;31m---------------------------------------------------------------------------\u001b[0m",
      "\u001b[0;31mAttributeError\u001b[0m                            Traceback (most recent call last)",
      "\u001b[0;32m/tmp/ipykernel_626/714009778.py\u001b[0m in \u001b[0;36m?\u001b[0;34m()\u001b[0m\n\u001b[1;32m      1\u001b[0m \u001b[0mdata\u001b[0m \u001b[0;34m=\u001b[0m \u001b[0mpd\u001b[0m\u001b[0;34m.\u001b[0m\u001b[0mread_csv\u001b[0m\u001b[0;34m(\u001b[0m\u001b[0;34m\"data/Twitter Search Results Scraper (1)_20240421_1743.csv\"\u001b[0m\u001b[0;34m)\u001b[0m\u001b[0;34m\u001b[0m\u001b[0;34m\u001b[0m\u001b[0m\n\u001b[0;32m----> 2\u001b[0;31m \u001b[0mdata\u001b[0m\u001b[0;34m[\u001b[0m\u001b[0;34m'content'\u001b[0m\u001b[0;34m]\u001b[0m\u001b[0;34m.\u001b[0m\u001b[0mstrip\u001b[0m\u001b[0;34m(\u001b[0m\u001b[0;34m)\u001b[0m\u001b[0;34m\u001b[0m\u001b[0;34m\u001b[0m\u001b[0m\n\u001b[0m\u001b[1;32m      3\u001b[0m \u001b[0mprint\u001b[0m\u001b[0;34m(\u001b[0m\u001b[0mdata\u001b[0m\u001b[0;34m.\u001b[0m\u001b[0mhead\u001b[0m\u001b[0;34m(\u001b[0m\u001b[0;34m)\u001b[0m\u001b[0;34m)\u001b[0m\u001b[0;34m\u001b[0m\u001b[0;34m\u001b[0m\u001b[0m\n",
      "\u001b[0;32m~/projects/.venv/lib/python3.11/site-packages/pandas/core/generic.py\u001b[0m in \u001b[0;36m?\u001b[0;34m(self, name)\u001b[0m\n\u001b[1;32m   6295\u001b[0m             \u001b[0;32mand\u001b[0m \u001b[0mname\u001b[0m \u001b[0;32mnot\u001b[0m \u001b[0;32min\u001b[0m \u001b[0mself\u001b[0m\u001b[0;34m.\u001b[0m\u001b[0m_accessors\u001b[0m\u001b[0;34m\u001b[0m\u001b[0;34m\u001b[0m\u001b[0m\n\u001b[1;32m   6296\u001b[0m             \u001b[0;32mand\u001b[0m \u001b[0mself\u001b[0m\u001b[0;34m.\u001b[0m\u001b[0m_info_axis\u001b[0m\u001b[0;34m.\u001b[0m\u001b[0m_can_hold_identifiers_and_holds_name\u001b[0m\u001b[0;34m(\u001b[0m\u001b[0mname\u001b[0m\u001b[0;34m)\u001b[0m\u001b[0;34m\u001b[0m\u001b[0;34m\u001b[0m\u001b[0m\n\u001b[1;32m   6297\u001b[0m         ):\n\u001b[1;32m   6298\u001b[0m             \u001b[0;32mreturn\u001b[0m \u001b[0mself\u001b[0m\u001b[0;34m[\u001b[0m\u001b[0mname\u001b[0m\u001b[0;34m]\u001b[0m\u001b[0;34m\u001b[0m\u001b[0;34m\u001b[0m\u001b[0m\n\u001b[0;32m-> 6299\u001b[0;31m         \u001b[0;32mreturn\u001b[0m \u001b[0mobject\u001b[0m\u001b[0;34m.\u001b[0m\u001b[0m__getattribute__\u001b[0m\u001b[0;34m(\u001b[0m\u001b[0mself\u001b[0m\u001b[0;34m,\u001b[0m \u001b[0mname\u001b[0m\u001b[0;34m)\u001b[0m\u001b[0;34m\u001b[0m\u001b[0;34m\u001b[0m\u001b[0m\n\u001b[0m",
      "\u001b[0;31mAttributeError\u001b[0m: 'Series' object has no attribute 'strip'"
     ]
    }
   ],
   "source": [
    "data = pd.read_csv(\"data/Twitter Search Results Scraper (1)_20240421_1743.csv\")\n",
    "data['content'].strip()\n",
    "print(data.head())"
   ]
  },
  {
   "cell_type": "code",
   "execution_count": 78,
   "metadata": {},
   "outputs": [
    {
     "name": "stdout",
     "output_type": "stream",
     "text": [
      "0                                                                                                                                                vraag mag fietsen reitdiephaven groningen\n",
      "1                       leg kind hekken flat vanweg onveiligheid over scheuren kind moeten uitleggen weet wanneer gedaan gaat waanzin groningen daarom gisteren acti vlamovenflat opgelost\n",
      "2          senat mvrooijen on fire arrogant houd stasmijnbouw richt eerstekam beindig gaswin groningen rooijen enig rationel aanpak laat gijzelen emomafia nl media amp politiek obv emoti\n",
      "3           mooi zien laatst jaren eredivisi lege stoeltj groningen jaartj kkd stadion zit lekker vol begon leven we jaartj lager voetbalden kijk waar we staan regio leeft grocam fctwent\n",
      "4                                                                                                          geschiedeni gaat heel zwaar oordelen waanzin historisch fout groningen gaskraan\n",
      "                                                                                              ...                                                                                         \n",
      "310                                                                                                                                   groningen persoon raakt water hylkemaheerd groningen\n",
      "311    gaswin groningen kolham vandaaginsid aardbev gelukkig dempen putten zon vijftien jaar duren geval oorlog ofzo meest putten weer open stopt gaswin cht ze vragen antwoorden rtvnoord\n",
      "312                            kogel kerk volleybal lycurgu groningen gaan belgisch nederlands competiti spelen kwaliteit gaat omhoog vindt coach arjantaaij dagblad noorden volleyb belgi\n",
      "313                                                                                                                          j oranjenassau koplop af nederlaag vvpkc winst gvav groningen\n",
      "314                                                     wangedrocht misplaatst aprilgrap foeilelijk afschuwelijk miskleun genegeerd petiti boze mailtj gemeent geheugenpaviljoen groningen\n",
      "Name: preprocessed_text, Length: 315, dtype: object\n"
     ]
    }
   ],
   "source": [
    "# Definieer de preprocessing-functies\n",
    "def preprocess_text(text):\n",
    "    # Verwijder links uit de tekst\n",
    "    text = re.sub(r'https?://\\S+', '', text)\n",
    "    # Verwijder niet-alfanumerieke tekens (behalve spaties)\n",
    "    text = re.sub(r'[^a-zA-Z\\s]', '', text)\n",
    "    # Convert to lowercase\n",
    "    text = text.lower()\n",
    "    # Tokenize the text\n",
    "    tokens = word_tokenize(text)\n",
    "    # Remove stopwords\n",
    "    stop_words = set(stopwords.words('dutch'))\n",
    "    tokens = [word for word in tokens if word not in stop_words]\n",
    "    # Stemming\n",
    "    porter = PorterStemmer()\n",
    "    stemmed_tokens = [porter.stem(word) for word in tokens]\n",
    "    # Join the tokens back into a single string\n",
    "    preprocessed_text = ' '.join(stemmed_tokens)\n",
    "    return preprocessed_text.strip()\n",
    "\n",
    "# Pas de preprocessing toe op de kolom 'content' met behulp van apply()\n",
    "data['preprocessed_text'] = data['content'].apply(preprocess_text)\n",
    "\n",
    "# Print het DataFrame met preprocessed text\n",
    "print(data.preprocessed_text)"
   ]
  },
  {
   "cell_type": "code",
   "execution_count": 79,
   "metadata": {},
   "outputs": [
    {
     "data": {
      "text/plain": [
       "0                                                                                                                                          vraag mag fietsen reitdiephaven groningen\n",
       "1                 leg kind hekken flat vanweg onveiligheid over scheuren kind moeten uitleggen weet wanneer gedaan gaat waanzin groningen daarom gisteren acti vlamovenflat opgelost\n",
       "2    senat mvrooijen on fire arrogant houd stasmijnbouw richt eerstekam beindig gaswin groningen rooijen enig rationel aanpak laat gijzelen emomafia nl media amp politiek obv emoti\n",
       "3     mooi zien laatst jaren eredivisi lege stoeltj groningen jaartj kkd stadion zit lekker vol begon leven we jaartj lager voetbalden kijk waar we staan regio leeft grocam fctwent\n",
       "4                                                                                                    geschiedeni gaat heel zwaar oordelen waanzin historisch fout groningen gaskraan\n",
       "Name: preprocessed_text, dtype: object"
      ]
     },
     "execution_count": 79,
     "metadata": {},
     "output_type": "execute_result"
    }
   ],
   "source": [
    "pd.set_option('display.max_colwidth', None)\n",
    "data['preprocessed_text'].head()"
   ]
  },
  {
   "cell_type": "code",
   "execution_count": null,
   "metadata": {},
   "outputs": [],
   "source": []
  }
 ],
 "metadata": {
  "kernelspec": {
   "display_name": ".venv",
   "language": "python",
   "name": "python3"
  },
  "language_info": {
   "codemirror_mode": {
    "name": "ipython",
    "version": 3
   },
   "file_extension": ".py",
   "mimetype": "text/x-python",
   "name": "python",
   "nbconvert_exporter": "python",
   "pygments_lexer": "ipython3",
   "version": "3.11.9"
  }
 },
 "nbformat": 4,
 "nbformat_minor": 2
}
